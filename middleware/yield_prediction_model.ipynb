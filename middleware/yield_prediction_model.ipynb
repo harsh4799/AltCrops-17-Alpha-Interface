{
  "nbformat": 4,
  "nbformat_minor": 0,
  "metadata": {
    "colab": {
      "name": "yield_prediction_model.ipynb",
      "provenance": [],
      "collapsed_sections": []
    },
    "kernelspec": {
      "name": "python3",
      "display_name": "Python 3"
    }
  },
  "cells": [
    {
      "cell_type": "code",
      "metadata": {
        "id": "6oAjMIEPPGqf"
      },
      "source": [
        "#Factors to consider\n",
        "#Season Wise crops\n",
        "#State Wise + District wise\n",
        "#Water Availibility \n",
        "#Soil Condition\n",
        "#Climate\n",
        "#Market Condition\n",
        "#Cost to cultivate and produce\n",
        "\n",
        "    # x = dataset[['area','production','yield','rainfall','n','p','oc','k']]\n"
      ],
      "execution_count": null,
      "outputs": []
    },
    {
      "cell_type": "code",
      "metadata": {
        "id": "f1J_9nbnTSnX"
      },
      "source": [
        "import pandas as pd\n",
        "import numpy as np\n",
        "summer = pd.read_csv('Report - All Crops Summer Season_output.csv')\n",
        "kharif =  pd.read_csv('Report - Kharif_output.csv')\n",
        "rabi =  pd.read_csv('Report - Rabi_output.csv')\n",
        "nutrition = pd.read_csv('nutrition.csv')\n",
        "nutrition.drop_duplicates(subset=None, keep='first', inplace=True)\n",
        "current_dataset = 'summer'"
      ],
      "execution_count": null,
      "outputs": []
    },
    {
      "cell_type": "code",
      "metadata": {
        "id": "EhuyHYJzXDN8",
        "colab": {
          "base_uri": "https://localhost:8080/",
          "height": 164
        },
        "outputId": "92e49758-2342-4537-b353-dcbac67f1513"
      },
      "source": [
        "#basic\n",
        "def yield_reccomendation(area,season,state,district=None):\n",
        "    if season == \"summer\":\n",
        "        dataset = summer\n",
        "    elif season == \"rabi\":\n",
        "        dataset = rabi\n",
        "    else:\n",
        "        dataset = kharif\n",
        "    dataset = dataset[dataset['state'] == state]\n",
        "    if district != None:\n",
        "        dataset = dataset[dataset['district'] == district]\n",
        "    dataset = dataset.sort_values(by=['year'],ascending=False)\n",
        "    output = []\n",
        "    crops_covered = []\n",
        "    for index,row in dataset.iterrows():\n",
        "        if row['crop'] not in crops_covered and row['yield'] > 0:\n",
        "            output.append([row['crop'],row['year'],row['yield'],row['yield'] * area])\n",
        "            crops_covered.append(row['crop'])\n",
        "    processed_dataset = pd.DataFrame(np.array(output),columns=['crop','year','yield','production'])\n",
        "    processed_dataset = processed_dataset.sort_values(by=['production'],ascending=False)\n",
        "    return processed_dataset\n",
        "yield_reccomendation(100,'summer','Maharashtra','PUNE')"
      ],
      "execution_count": null,
      "outputs": [
        {
          "output_type": "execute_result",
          "data": {
            "text/html": [
              "<div>\n",
              "<style scoped>\n",
              "    .dataframe tbody tr th:only-of-type {\n",
              "        vertical-align: middle;\n",
              "    }\n",
              "\n",
              "    .dataframe tbody tr th {\n",
              "        vertical-align: top;\n",
              "    }\n",
              "\n",
              "    .dataframe thead th {\n",
              "        text-align: right;\n",
              "    }\n",
              "</style>\n",
              "<table border=\"1\" class=\"dataframe\">\n",
              "  <thead>\n",
              "    <tr style=\"text-align: right;\">\n",
              "      <th></th>\n",
              "      <th>crop</th>\n",
              "      <th>year</th>\n",
              "      <th>yield</th>\n",
              "      <th>production</th>\n",
              "    </tr>\n",
              "  </thead>\n",
              "  <tbody>\n",
              "    <tr>\n",
              "      <th>0</th>\n",
              "      <td>Other Cereals</td>\n",
              "      <td>2018-19</td>\n",
              "      <td>0.82</td>\n",
              "      <td>82.0</td>\n",
              "    </tr>\n",
              "    <tr>\n",
              "      <th>3</th>\n",
              "      <td>Sunflower</td>\n",
              "      <td>2013-14</td>\n",
              "      <td>0.63</td>\n",
              "      <td>63.0</td>\n",
              "    </tr>\n",
              "    <tr>\n",
              "      <th>1</th>\n",
              "      <td>Groundnut</td>\n",
              "      <td>2018-19</td>\n",
              "      <td>1.8</td>\n",
              "      <td>180.0</td>\n",
              "    </tr>\n",
              "    <tr>\n",
              "      <th>2</th>\n",
              "      <td>Maize</td>\n",
              "      <td>2018-19</td>\n",
              "      <td>1.1</td>\n",
              "      <td>110.00000000000001</td>\n",
              "    </tr>\n",
              "  </tbody>\n",
              "</table>\n",
              "</div>"
            ],
            "text/plain": [
              "            crop      year yield          production\n",
              "0  Other Cereals   2018-19  0.82                82.0\n",
              "3      Sunflower   2013-14  0.63                63.0\n",
              "1      Groundnut   2018-19   1.8               180.0\n",
              "2          Maize   2018-19   1.1  110.00000000000001"
            ]
          },
          "metadata": {
            "tags": []
          },
          "execution_count": 256
        }
      ]
    },
    {
      "cell_type": "code",
      "metadata": {
        "id": "m12u5KX6XDza",
        "colab": {
          "base_uri": "https://localhost:8080/"
        },
        "outputId": "4eeac634-407a-4fe7-b1f0-bf83fe0a087c"
      },
      "source": [
        "#ml\n",
        "kharif_dates = ['JUN','OCT']\n",
        "rabi_dates = ['NOV','APR']\n",
        "summer_dates = ['MAR','JUN']\n",
        "\n",
        "def get_processed_data():\n",
        "    dataset = pd.read_csv('rainfall in india 1901-2015.csv')\n",
        "    output = []\n",
        "    for index,row in dataset.iterrows():\n",
        "        kharif_rain = (row['JUN']+row['JUL']+row['AUG']+row['SEP']+row['OCT'])/5\n",
        "        rabi_rain = (row['NOV']+row['DEC']+row['JAN']+row['FEB']+row['MAR']+row['APR'])/6\n",
        "        summer_rain = (row['MAR']+row['APR']+row['MAY']+row['JUN'])/4\n",
        "        state = row['SUBDIVISION']\n",
        "        output.append([state,row['YEAR'],kharif_rain,rabi_rain,summer_rain])\n",
        "\n",
        "    processed_dataset = pd.DataFrame(np.array(output),columns=['state','year','kharif','rabi','summer'])\n",
        "    for col in ['kharif','rabi','summer']:\n",
        "        processed_dataset[col] = processed_dataset[col].astype('float')\n",
        "    processed_dataset['year'] = processed_dataset['year'].astype('int')\n",
        "    processed_dataset['state'] = processed_dataset['state'].astype('string')\n",
        "    return processed_dataset\n",
        "\n",
        "def get_rainfall(rainfall_dataset,year,state,season):\n",
        "    if year > 2015:\n",
        "        year = 2015\n",
        "    rainfall_dataset = rainfall_dataset[rainfall_dataset['year'] == year]\n",
        "    return float(rainfall_dataset[rainfall_dataset['state'].str.contains(\"Andhra\".upper())][season])\n",
        "\n",
        "\n",
        "rainfall_dataset = get_processed_data()\n",
        "get_rainfall(rainfall_dataset,1999,'Andhra Pradesh','kharif')"
      ],
      "execution_count": null,
      "outputs": [
        {
          "output_type": "execute_result",
          "data": {
            "text/plain": [
              "141.72"
            ]
          },
          "metadata": {
            "tags": []
          },
          "execution_count": 257
        }
      ]
    },
    {
      "cell_type": "code",
      "metadata": {
        "id": "NfQME8N_FGsi",
        "colab": {
          "base_uri": "https://localhost:8080/"
        },
        "outputId": "15534cfd-5d78-4a36-b632-fc9a818d0956"
      },
      "source": [
        "nutrition['District'] = [str(row['District'].upper()) for index,row in nutrition.iterrows()]\n",
        "nut_dist = set(list(nutrition['District']))\n",
        "print(len(nut_dist))"
      ],
      "execution_count": null,
      "outputs": [
        {
          "output_type": "stream",
          "text": [
            "649\n"
          ],
          "name": "stdout"
        }
      ]
    },
    {
      "cell_type": "code",
      "metadata": {
        "id": "QK9rBJWyWb1t",
        "colab": {
          "base_uri": "https://localhost:8080/"
        },
        "outputId": "f39b73ed-0bf1-4314-c1cd-afa8d1f46d6a"
      },
      "source": [
        "summer_dist = set(list(summer['district']))\n",
        "print(len(summer_dist))"
      ],
      "execution_count": null,
      "outputs": [
        {
          "output_type": "stream",
          "text": [
            "383\n"
          ],
          "name": "stdout"
        }
      ]
    },
    {
      "cell_type": "code",
      "metadata": {
        "id": "bZajMuHWbidH",
        "colab": {
          "base_uri": "https://localhost:8080/"
        },
        "outputId": "f4bb4b4f-c92c-4f6f-a6c3-b1b774d476b7"
      },
      "source": [
        "%xmode plain\n",
        "def add_rainfall_datapoints(seasonal_dataset,season):\n",
        "    dataset = seasonal_dataset\n",
        "    output = []\n",
        "    for index,row in dataset.iterrows():\n",
        "        state = row['state']\n",
        "        year = int(row['year'].split('-')[0])\n",
        "        rainwater = get_rainfall(rainfall_dataset,year,state,season)\n",
        "        output.append(rainwater)\n",
        "    dataset['rainfall'] = output\n",
        "    return dataset\n",
        "\n",
        "if current_dataset == \"kharif\":\n",
        "    dataset = add_rainfall_datapoints(kharif,current_dataset)\n",
        "elif current_dataset == \"rabi\":\n",
        "    dataset = add_rainfall_datapoints(rabi,current_dataset)\n",
        "else:\n",
        "    dataset = add_rainfall_datapoints(summer,current_dataset)\n"
      ],
      "execution_count": null,
      "outputs": [
        {
          "output_type": "stream",
          "text": [
            "Exception reporting mode: Plain\n"
          ],
          "name": "stdout"
        }
      ]
    },
    {
      "cell_type": "code",
      "metadata": {
        "id": "OeHXLjbwJnod"
      },
      "source": [
        "def add_element_datapoints(dataset):\n",
        "    n = []\n",
        "    oc = []\n",
        "    p = []\n",
        "    k = []\n",
        "    state_average = {}\n",
        "    for index,row in nutrition.iterrows():\n",
        "        state = row['State']\n",
        "        average = nutrition[nutrition['State'] == state].describe().loc['mean']\n",
        "        state_average[state.lower()] = average\n",
        "\n",
        "    for index,row in dataset.iterrows():\n",
        "        state = row['state']\n",
        "        district = row['district']\n",
        "        filtered_by_state = nutrition[nutrition['State']==state]\n",
        "        flag = 0\n",
        "        if len(filtered_by_state) > 0 :\n",
        "            filtered_by_district = filtered_by_state[filtered_by_state['District']== district]\n",
        "            if len(filtered_by_district) > 0:\n",
        "                n.append(float(filtered_by_district['N']))\n",
        "                oc.append(float(filtered_by_district['OC']))\n",
        "                p.append(float(filtered_by_district['P']))\n",
        "                k.append(float(filtered_by_district['K']))\n",
        "                flag = 1\n",
        "        if flag == 0:\n",
        "            state = state.lower().strip()\n",
        "            if state in state_average.keys():\n",
        "                    \n",
        "                n.append(state_average[state]['N'])\n",
        "                oc.append(state_average[state]['OC'])\n",
        "                p.append(state_average[state]['P'])\n",
        "                k.append(state_average[state]['K'])\n",
        "            else:\n",
        "                n.append(None)\n",
        "                oc.append(None)\n",
        "                p.append(None)\n",
        "                k.append(None)            \n",
        "    dataset['n'] = n\n",
        "    dataset['p'] = p\n",
        "    dataset['oc'] = oc\n",
        "    dataset['k'] = k\n",
        "\n",
        "    #dataset = pd.concat([seasonal_dataset, nutrition], axis = 1,ignore_index=True, sort=False)\n",
        "    return dataset\n",
        "dataset = add_element_datapoints(dataset)\n"
      ],
      "execution_count": null,
      "outputs": []
    },
    {
      "cell_type": "code",
      "metadata": {
        "id": "mg3ne7xZhVaH",
        "colab": {
          "base_uri": "https://localhost:8080/"
        },
        "outputId": "f96d836c-343f-47c0-df8b-d15148c34f80"
      },
      "source": [
        "dataset.isna().sum() "
      ],
      "execution_count": null,
      "outputs": [
        {
          "output_type": "execute_result",
          "data": {
            "text/plain": [
              "crop           0\n",
              "state          0\n",
              "district       0\n",
              "year           0\n",
              "season         0\n",
              "area           0\n",
              "production    44\n",
              "yield          0\n",
              "rainfall       0\n",
              "n              0\n",
              "p              0\n",
              "oc             0\n",
              "k              0\n",
              "dtype: int64"
            ]
          },
          "metadata": {
            "tags": []
          },
          "execution_count": 262
        }
      ]
    },
    {
      "cell_type": "code",
      "metadata": {
        "id": "lFShswe8teNH",
        "colab": {
          "base_uri": "https://localhost:8080/",
          "height": 194
        },
        "outputId": "4eded87a-01d2-4900-ec57-3b4966fe331c"
      },
      "source": [
        "dataset.head()"
      ],
      "execution_count": null,
      "outputs": [
        {
          "output_type": "execute_result",
          "data": {
            "text/html": [
              "<div>\n",
              "<style scoped>\n",
              "    .dataframe tbody tr th:only-of-type {\n",
              "        vertical-align: middle;\n",
              "    }\n",
              "\n",
              "    .dataframe tbody tr th {\n",
              "        vertical-align: top;\n",
              "    }\n",
              "\n",
              "    .dataframe thead th {\n",
              "        text-align: right;\n",
              "    }\n",
              "</style>\n",
              "<table border=\"1\" class=\"dataframe\">\n",
              "  <thead>\n",
              "    <tr style=\"text-align: right;\">\n",
              "      <th></th>\n",
              "      <th>crop</th>\n",
              "      <th>state</th>\n",
              "      <th>district</th>\n",
              "      <th>year</th>\n",
              "      <th>season</th>\n",
              "      <th>area</th>\n",
              "      <th>production</th>\n",
              "      <th>yield</th>\n",
              "      <th>rainfall</th>\n",
              "      <th>n</th>\n",
              "      <th>p</th>\n",
              "      <th>oc</th>\n",
              "      <th>k</th>\n",
              "    </tr>\n",
              "  </thead>\n",
              "  <tbody>\n",
              "    <tr>\n",
              "      <th>0</th>\n",
              "      <td>Arecanut</td>\n",
              "      <td>Andaman and Nicobar Islands</td>\n",
              "      <td></td>\n",
              "      <td>2009-10</td>\n",
              "      <td>Summer</td>\n",
              "      <td>4153.0</td>\n",
              "      <td>2080.0</td>\n",
              "      <td>0.50</td>\n",
              "      <td>34.425</td>\n",
              "      <td>99.2</td>\n",
              "      <td>89.44</td>\n",
              "      <td>75.286667</td>\n",
              "      <td>87.60</td>\n",
              "    </tr>\n",
              "    <tr>\n",
              "      <th>1</th>\n",
              "      <td>Arhar/Tur</td>\n",
              "      <td>Andaman and Nicobar Islands</td>\n",
              "      <td></td>\n",
              "      <td>2009-10</td>\n",
              "      <td>Summer</td>\n",
              "      <td>331.0</td>\n",
              "      <td>164.0</td>\n",
              "      <td>0.50</td>\n",
              "      <td>34.425</td>\n",
              "      <td>99.2</td>\n",
              "      <td>89.44</td>\n",
              "      <td>75.286667</td>\n",
              "      <td>87.60</td>\n",
              "    </tr>\n",
              "    <tr>\n",
              "      <th>2</th>\n",
              "      <td>Bajra</td>\n",
              "      <td>Gujarat</td>\n",
              "      <td>KHEDA</td>\n",
              "      <td>2007-08</td>\n",
              "      <td>Summer</td>\n",
              "      <td>22800.0</td>\n",
              "      <td>55300.0</td>\n",
              "      <td>2.43</td>\n",
              "      <td>80.425</td>\n",
              "      <td>100.0</td>\n",
              "      <td>16.67</td>\n",
              "      <td>45.190000</td>\n",
              "      <td>16.35</td>\n",
              "    </tr>\n",
              "    <tr>\n",
              "      <th>3</th>\n",
              "      <td>Bajra</td>\n",
              "      <td>Gujarat</td>\n",
              "      <td>KHEDA</td>\n",
              "      <td>2006-07</td>\n",
              "      <td>Summer</td>\n",
              "      <td>14400.0</td>\n",
              "      <td>35800.0</td>\n",
              "      <td>2.49</td>\n",
              "      <td>72.075</td>\n",
              "      <td>100.0</td>\n",
              "      <td>16.67</td>\n",
              "      <td>45.190000</td>\n",
              "      <td>16.35</td>\n",
              "    </tr>\n",
              "    <tr>\n",
              "      <th>4</th>\n",
              "      <td>Bajra</td>\n",
              "      <td>Gujarat</td>\n",
              "      <td>KHEDA</td>\n",
              "      <td>2005-06</td>\n",
              "      <td>Summer</td>\n",
              "      <td>14100.0</td>\n",
              "      <td>30500.0</td>\n",
              "      <td>2.16</td>\n",
              "      <td>46.525</td>\n",
              "      <td>100.0</td>\n",
              "      <td>16.67</td>\n",
              "      <td>45.190000</td>\n",
              "      <td>16.35</td>\n",
              "    </tr>\n",
              "  </tbody>\n",
              "</table>\n",
              "</div>"
            ],
            "text/plain": [
              "        crop                        state district  ...      p         oc      k\n",
              "0   Arecanut  Andaman and Nicobar Islands           ...  89.44  75.286667  87.60\n",
              "1  Arhar/Tur  Andaman and Nicobar Islands           ...  89.44  75.286667  87.60\n",
              "2      Bajra                      Gujarat    KHEDA  ...  16.67  45.190000  16.35\n",
              "3      Bajra                      Gujarat    KHEDA  ...  16.67  45.190000  16.35\n",
              "4      Bajra                      Gujarat    KHEDA  ...  16.67  45.190000  16.35\n",
              "\n",
              "[5 rows x 13 columns]"
            ]
          },
          "metadata": {
            "tags": []
          },
          "execution_count": 263
        }
      ]
    },
    {
      "cell_type": "code",
      "metadata": {
        "id": "p1-PdqO6HFx_",
        "colab": {
          "base_uri": "https://localhost:8080/"
        },
        "outputId": "04030886-d6cd-4971-d3f8-d4c5265d3701"
      },
      "source": [
        "set(list(dataset['state']))"
      ],
      "execution_count": null,
      "outputs": [
        {
          "output_type": "execute_result",
          "data": {
            "text/plain": [
              "{'Andaman and Nicobar Islands',\n",
              " 'Assam',\n",
              " 'Bihar',\n",
              " 'Gujarat',\n",
              " 'Karnataka',\n",
              " 'Kerala',\n",
              " 'Madhya Pradesh',\n",
              " 'Maharashtra',\n",
              " 'Manipur',\n",
              " 'Meghalaya',\n",
              " 'Odisha',\n",
              " 'Puducherry',\n",
              " 'Tripura',\n",
              " 'Uttar Pradesh',\n",
              " 'Uttarakhand',\n",
              " 'West Bengal'}"
            ]
          },
          "metadata": {
            "tags": []
          },
          "execution_count": 264
        }
      ]
    },
    {
      "cell_type": "code",
      "metadata": {
        "id": "VGEWtVKZNLnE",
        "colab": {
          "base_uri": "https://localhost:8080/"
        },
        "outputId": "128c297a-c373-4657-bd07-7c2595fff528"
      },
      "source": [
        "set(list(nutrition['State']))"
      ],
      "execution_count": null,
      "outputs": [
        {
          "output_type": "execute_result",
          "data": {
            "text/plain": [
              "{'Andaman And Nicobar Islands',\n",
              " 'Andhra Pradesh',\n",
              " 'Arunachal Pradesh',\n",
              " 'Assam',\n",
              " 'Bihar',\n",
              " 'Chhattisgarh',\n",
              " 'Delhi',\n",
              " 'Goa',\n",
              " 'Gujarat',\n",
              " 'Haryana',\n",
              " 'Himachal Pradesh',\n",
              " 'Jammu And Kashmir',\n",
              " 'Jharkhand',\n",
              " 'Karnataka',\n",
              " 'Kerala',\n",
              " 'Ladakh',\n",
              " 'Madhya Pradesh',\n",
              " 'Maharashtra',\n",
              " 'Manipur',\n",
              " 'Meghalaya',\n",
              " 'Mizoram',\n",
              " 'Nagaland',\n",
              " 'Odisha',\n",
              " 'Puducherry',\n",
              " 'Punjab',\n",
              " 'Rajasthan',\n",
              " 'Sikkim',\n",
              " 'Tamil Nadu',\n",
              " 'Telangana',\n",
              " 'The Dadra And Nagar Haveli And Daman And Diu',\n",
              " 'Tripura',\n",
              " 'Uttar Pradesh',\n",
              " 'Uttarakhand',\n",
              " 'West Bengal'}"
            ]
          },
          "metadata": {
            "tags": []
          },
          "execution_count": 265
        }
      ]
    },
    {
      "cell_type": "code",
      "metadata": {
        "id": "NaBwmBcoWjnC"
      },
      "source": [
        "dataset.to_csv(\"processed_data.csv\")"
      ],
      "execution_count": null,
      "outputs": []
    },
    {
      "cell_type": "code",
      "metadata": {
        "id": "CZRTelu1UEYP",
        "colab": {
          "base_uri": "https://localhost:8080/"
        },
        "outputId": "606a35a1-deca-4b6a-cc47-7e6a8d8c503e"
      },
      "source": [
        "import pandas as pd\n",
        "from sklearn import preprocessing\n",
        "import pickle\n",
        "def normalize_dataset(dataset):\n",
        "    # x = dataset[['area','production','yield','rainfall','n','p','oc','k']]\n",
        "    x = dataset[['production','rainfall','n','p','oc','k']]\n",
        "\n",
        "    x = x.values\n",
        "    min_max_scaler = preprocessing.MinMaxScaler()\n",
        "    x_scaled = min_max_scaler.fit_transform(x)\n",
        "    normalized_dataset = pd.DataFrame(x_scaled,columns = ['production','rainfall','n','p','oc','k'])\n",
        "    #normalized_dataset = pd.DataFrame(x_scaled,columns = ['area','production','yield','rainfall','n','p','oc','k'])\n",
        "\n",
        "    for col in dataset.iteritems():\n",
        "        if col[0] in ['production','rainfall','n','p','oc','k']:\n",
        "        #if col[0] in ['area','production','yield','rainfall','n','p','oc','k']:\n",
        "            dataset[col[0]] = normalized_dataset[col[0]]\n",
        "    le = preprocessing.LabelEncoder()\n",
        "    le.fit([i for i in set(list(dataset['crop']))])\n",
        "    le_name_mapping = dict(zip(le.classes_, le.transform(le.classes_)))\n",
        "    \n",
        "    dataset['crop'] = le.transform(dataset['crop'])\n",
        "    normalized_dataset['crop'] = dataset['crop']\n",
        "    normalized_dataset['area'] = dataset['area']\n",
        "\n",
        "    # print(le_name_mapping)\n",
        "    # pickle.dump(le_name_mapping,open(\"encodings/encoding_\"+current_dataset+\".pkl\",'wb'))\n",
        "    return dataset,normalized_dataset\n",
        "final_dataset,normalized_dataset = normalize_dataset(dataset)"
      ],
      "execution_count": null,
      "outputs": [
        {
          "output_type": "stream",
          "text": [
            "{'Arecanut': 0, 'Arhar/Tur': 1, 'Bajra': 2, 'Banana': 3, 'Black pepper': 4, 'Cotton(lint)': 5, 'Cowpea(Lobia)': 6, 'Dry Ginger': 7, 'Dry chillies': 8, 'Groundnut': 9, 'Horse-gram': 10, 'Jowar': 11, 'Maize': 12, 'Moong(Green Gram)': 13, 'Onion': 14, 'Other  Rabi pulses': 15, 'Other Cereals': 16, 'Other Summer Pulses': 17, 'Peas & beans (Pulses)': 18, 'Potato': 19, 'Ragi': 20, 'Rapeseed &Mustard': 21, 'Rice': 22, 'Sesamum': 23, 'Small millets': 24, 'Sugarcane': 25, 'Sunflower': 26, 'Sweet potato': 27, 'Tapioca': 28, 'Tobacco': 29, 'Turmeric': 30, 'Urad': 31, 'Wheat': 32, 'other oilseeds': 33}\n"
          ],
          "name": "stdout"
        }
      ]
    },
    {
      "cell_type": "code",
      "metadata": {
        "id": "JF6OKpFSrCsS",
        "colab": {
          "base_uri": "https://localhost:8080/",
          "height": 399
        },
        "outputId": "f91a85b0-b9a8-44d8-c263-4b873131598a"
      },
      "source": [
        "normalized_dataset"
      ],
      "execution_count": null,
      "outputs": [
        {
          "output_type": "execute_result",
          "data": {
            "text/html": [
              "<div>\n",
              "<style scoped>\n",
              "    .dataframe tbody tr th:only-of-type {\n",
              "        vertical-align: middle;\n",
              "    }\n",
              "\n",
              "    .dataframe tbody tr th {\n",
              "        vertical-align: top;\n",
              "    }\n",
              "\n",
              "    .dataframe thead th {\n",
              "        text-align: right;\n",
              "    }\n",
              "</style>\n",
              "<table border=\"1\" class=\"dataframe\">\n",
              "  <thead>\n",
              "    <tr style=\"text-align: right;\">\n",
              "      <th></th>\n",
              "      <th>production</th>\n",
              "      <th>rainfall</th>\n",
              "      <th>n</th>\n",
              "      <th>p</th>\n",
              "      <th>oc</th>\n",
              "      <th>k</th>\n",
              "      <th>crop</th>\n",
              "      <th>area</th>\n",
              "    </tr>\n",
              "  </thead>\n",
              "  <tbody>\n",
              "    <tr>\n",
              "      <th>0</th>\n",
              "      <td>0.000000</td>\n",
              "      <td>0.044226</td>\n",
              "      <td>1.000000</td>\n",
              "      <td>0.654956</td>\n",
              "      <td>0.926335</td>\n",
              "      <td>0.639792</td>\n",
              "      <td>0</td>\n",
              "      <td>67.0</td>\n",
              "    </tr>\n",
              "    <tr>\n",
              "      <th>1</th>\n",
              "      <td>0.004244</td>\n",
              "      <td>0.000000</td>\n",
              "      <td>0.992035</td>\n",
              "      <td>0.912220</td>\n",
              "      <td>0.917946</td>\n",
              "      <td>0.175391</td>\n",
              "      <td>0</td>\n",
              "      <td>3149.0</td>\n",
              "    </tr>\n",
              "    <tr>\n",
              "      <th>2</th>\n",
              "      <td>0.004337</td>\n",
              "      <td>0.321867</td>\n",
              "      <td>0.992035</td>\n",
              "      <td>0.912220</td>\n",
              "      <td>0.917946</td>\n",
              "      <td>0.175391</td>\n",
              "      <td>0</td>\n",
              "      <td>3541.0</td>\n",
              "    </tr>\n",
              "    <tr>\n",
              "      <th>3</th>\n",
              "      <td>0.004329</td>\n",
              "      <td>0.288015</td>\n",
              "      <td>0.992035</td>\n",
              "      <td>0.912220</td>\n",
              "      <td>0.917946</td>\n",
              "      <td>0.175391</td>\n",
              "      <td>0</td>\n",
              "      <td>2836.0</td>\n",
              "    </tr>\n",
              "    <tr>\n",
              "      <th>4</th>\n",
              "      <td>0.004795</td>\n",
              "      <td>0.192738</td>\n",
              "      <td>0.992035</td>\n",
              "      <td>0.912220</td>\n",
              "      <td>0.917946</td>\n",
              "      <td>0.175391</td>\n",
              "      <td>0</td>\n",
              "      <td>3514.0</td>\n",
              "    </tr>\n",
              "    <tr>\n",
              "      <th>...</th>\n",
              "      <td>...</td>\n",
              "      <td>...</td>\n",
              "      <td>...</td>\n",
              "      <td>...</td>\n",
              "      <td>...</td>\n",
              "      <td>...</td>\n",
              "      <td>...</td>\n",
              "      <td>...</td>\n",
              "    </tr>\n",
              "    <tr>\n",
              "      <th>12491</th>\n",
              "      <td>0.151849</td>\n",
              "      <td>0.161616</td>\n",
              "      <td>0.998672</td>\n",
              "      <td>0.964564</td>\n",
              "      <td>0.952936</td>\n",
              "      <td>0.004962</td>\n",
              "      <td>4</td>\n",
              "      <td>88940.0</td>\n",
              "    </tr>\n",
              "    <tr>\n",
              "      <th>12492</th>\n",
              "      <td>0.146799</td>\n",
              "      <td>0.378105</td>\n",
              "      <td>0.998672</td>\n",
              "      <td>0.964564</td>\n",
              "      <td>0.952936</td>\n",
              "      <td>0.004962</td>\n",
              "      <td>4</td>\n",
              "      <td>88476.0</td>\n",
              "    </tr>\n",
              "    <tr>\n",
              "      <th>12493</th>\n",
              "      <td>0.125302</td>\n",
              "      <td>0.159159</td>\n",
              "      <td>0.998672</td>\n",
              "      <td>0.964564</td>\n",
              "      <td>0.952936</td>\n",
              "      <td>0.004962</td>\n",
              "      <td>4</td>\n",
              "      <td>87132.0</td>\n",
              "    </tr>\n",
              "    <tr>\n",
              "      <th>12494</th>\n",
              "      <td>0.146250</td>\n",
              "      <td>0.177177</td>\n",
              "      <td>0.997898</td>\n",
              "      <td>0.932571</td>\n",
              "      <td>0.910784</td>\n",
              "      <td>0.290995</td>\n",
              "      <td>4</td>\n",
              "      <td>91042.0</td>\n",
              "    </tr>\n",
              "    <tr>\n",
              "      <th>12495</th>\n",
              "      <td>0.009239</td>\n",
              "      <td>0.266175</td>\n",
              "      <td>0.434008</td>\n",
              "      <td>0.001215</td>\n",
              "      <td>0.006650</td>\n",
              "      <td>0.601216</td>\n",
              "      <td>4</td>\n",
              "      <td>9568.0</td>\n",
              "    </tr>\n",
              "  </tbody>\n",
              "</table>\n",
              "<p>12496 rows × 8 columns</p>\n",
              "</div>"
            ],
            "text/plain": [
              "       production  rainfall         n  ...         k  crop     area\n",
              "0        0.000000  0.044226  1.000000  ...  0.639792     0     67.0\n",
              "1        0.004244  0.000000  0.992035  ...  0.175391     0   3149.0\n",
              "2        0.004337  0.321867  0.992035  ...  0.175391     0   3541.0\n",
              "3        0.004329  0.288015  0.992035  ...  0.175391     0   2836.0\n",
              "4        0.004795  0.192738  0.992035  ...  0.175391     0   3514.0\n",
              "...           ...       ...       ...  ...       ...   ...      ...\n",
              "12491    0.151849  0.161616  0.998672  ...  0.004962     4  88940.0\n",
              "12492    0.146799  0.378105  0.998672  ...  0.004962     4  88476.0\n",
              "12493    0.125302  0.159159  0.998672  ...  0.004962     4  87132.0\n",
              "12494    0.146250  0.177177  0.997898  ...  0.290995     4  91042.0\n",
              "12495    0.009239  0.266175  0.434008  ...  0.601216     4   9568.0\n",
              "\n",
              "[12496 rows x 8 columns]"
            ]
          },
          "metadata": {
            "tags": []
          },
          "execution_count": 154
        }
      ]
    },
    {
      "cell_type": "code",
      "metadata": {
        "id": "XJyZQlwt2O1N"
      },
      "source": [
        "# normalized_rain = pd.DataFrame()\n",
        "# normalized_rain['state'] = final_dataset['state']\n",
        "# normalized_rain['district'] = final_dataset['district']\n",
        "# normalized_rain['rainfall'] = normalized_dataset['rainfall']\n",
        "# normalized_rain.to_excel('normalized_rain_rabi.xlsx',index=False)"
      ],
      "execution_count": null,
      "outputs": []
    },
    {
      "cell_type": "code",
      "metadata": {
        "id": "r3bcoXWPrD14",
        "colab": {
          "base_uri": "https://localhost:8080/",
          "height": 399
        },
        "outputId": "14461964-0103-4412-bfe4-cb19a8673bc1"
      },
      "source": [
        "dataset"
      ],
      "execution_count": null,
      "outputs": [
        {
          "output_type": "execute_result",
          "data": {
            "text/html": [
              "<div>\n",
              "<style scoped>\n",
              "    .dataframe tbody tr th:only-of-type {\n",
              "        vertical-align: middle;\n",
              "    }\n",
              "\n",
              "    .dataframe tbody tr th {\n",
              "        vertical-align: top;\n",
              "    }\n",
              "\n",
              "    .dataframe thead th {\n",
              "        text-align: right;\n",
              "    }\n",
              "</style>\n",
              "<table border=\"1\" class=\"dataframe\">\n",
              "  <thead>\n",
              "    <tr style=\"text-align: right;\">\n",
              "      <th></th>\n",
              "      <th>crop</th>\n",
              "      <th>state</th>\n",
              "      <th>district</th>\n",
              "      <th>year</th>\n",
              "      <th>season</th>\n",
              "      <th>area</th>\n",
              "      <th>production</th>\n",
              "      <th>yield</th>\n",
              "      <th>rainfall</th>\n",
              "      <th>n</th>\n",
              "      <th>p</th>\n",
              "      <th>oc</th>\n",
              "      <th>k</th>\n",
              "    </tr>\n",
              "  </thead>\n",
              "  <tbody>\n",
              "    <tr>\n",
              "      <th>0</th>\n",
              "      <td>0</td>\n",
              "      <td>Andaman and Nicobar Islands</td>\n",
              "      <td></td>\n",
              "      <td>2009-10</td>\n",
              "      <td>Summer</td>\n",
              "      <td>4153.0</td>\n",
              "      <td>0.002358</td>\n",
              "      <td>0.50</td>\n",
              "      <td>0.000000</td>\n",
              "      <td>0.9920</td>\n",
              "      <td>0.895564</td>\n",
              "      <td>0.752867</td>\n",
              "      <td>0.8760</td>\n",
              "    </tr>\n",
              "    <tr>\n",
              "      <th>1</th>\n",
              "      <td>1</td>\n",
              "      <td>Andaman and Nicobar Islands</td>\n",
              "      <td></td>\n",
              "      <td>2009-10</td>\n",
              "      <td>Summer</td>\n",
              "      <td>331.0</td>\n",
              "      <td>0.000186</td>\n",
              "      <td>0.50</td>\n",
              "      <td>0.000000</td>\n",
              "      <td>0.9920</td>\n",
              "      <td>0.895564</td>\n",
              "      <td>0.752867</td>\n",
              "      <td>0.8760</td>\n",
              "    </tr>\n",
              "    <tr>\n",
              "      <th>2</th>\n",
              "      <td>2</td>\n",
              "      <td>Gujarat</td>\n",
              "      <td>KHEDA</td>\n",
              "      <td>2007-08</td>\n",
              "      <td>Summer</td>\n",
              "      <td>22800.0</td>\n",
              "      <td>0.062678</td>\n",
              "      <td>2.43</td>\n",
              "      <td>0.844037</td>\n",
              "      <td>1.0000</td>\n",
              "      <td>0.166917</td>\n",
              "      <td>0.451900</td>\n",
              "      <td>0.1635</td>\n",
              "    </tr>\n",
              "    <tr>\n",
              "      <th>3</th>\n",
              "      <td>2</td>\n",
              "      <td>Gujarat</td>\n",
              "      <td>KHEDA</td>\n",
              "      <td>2006-07</td>\n",
              "      <td>Summer</td>\n",
              "      <td>14400.0</td>\n",
              "      <td>0.040576</td>\n",
              "      <td>2.49</td>\n",
              "      <td>0.690826</td>\n",
              "      <td>1.0000</td>\n",
              "      <td>0.166917</td>\n",
              "      <td>0.451900</td>\n",
              "      <td>0.1635</td>\n",
              "    </tr>\n",
              "    <tr>\n",
              "      <th>4</th>\n",
              "      <td>2</td>\n",
              "      <td>Gujarat</td>\n",
              "      <td>KHEDA</td>\n",
              "      <td>2005-06</td>\n",
              "      <td>Summer</td>\n",
              "      <td>14100.0</td>\n",
              "      <td>0.034569</td>\n",
              "      <td>2.16</td>\n",
              "      <td>0.222018</td>\n",
              "      <td>1.0000</td>\n",
              "      <td>0.166917</td>\n",
              "      <td>0.451900</td>\n",
              "      <td>0.1635</td>\n",
              "    </tr>\n",
              "    <tr>\n",
              "      <th>...</th>\n",
              "      <td>...</td>\n",
              "      <td>...</td>\n",
              "      <td>...</td>\n",
              "      <td>...</td>\n",
              "      <td>...</td>\n",
              "      <td>...</td>\n",
              "      <td>...</td>\n",
              "      <td>...</td>\n",
              "      <td>...</td>\n",
              "      <td>...</td>\n",
              "      <td>...</td>\n",
              "      <td>...</td>\n",
              "      <td>...</td>\n",
              "    </tr>\n",
              "    <tr>\n",
              "      <th>18212</th>\n",
              "      <td>33</td>\n",
              "      <td>Maharashtra</td>\n",
              "      <td>KOLHAPUR</td>\n",
              "      <td>2017-18</td>\n",
              "      <td>Summer</td>\n",
              "      <td>3.0</td>\n",
              "      <td>0.000017</td>\n",
              "      <td>5.00</td>\n",
              "      <td>1.000000</td>\n",
              "      <td>0.2877</td>\n",
              "      <td>0.268048</td>\n",
              "      <td>0.349600</td>\n",
              "      <td>0.2838</td>\n",
              "    </tr>\n",
              "    <tr>\n",
              "      <th>18213</th>\n",
              "      <td>33</td>\n",
              "      <td>Maharashtra</td>\n",
              "      <td>NANDURBAR</td>\n",
              "      <td>2016-17</td>\n",
              "      <td>Summer</td>\n",
              "      <td>20.0</td>\n",
              "      <td>0.000010</td>\n",
              "      <td>0.45</td>\n",
              "      <td>1.000000</td>\n",
              "      <td>0.8884</td>\n",
              "      <td>0.066286</td>\n",
              "      <td>0.769900</td>\n",
              "      <td>0.0160</td>\n",
              "    </tr>\n",
              "    <tr>\n",
              "      <th>18214</th>\n",
              "      <td>33</td>\n",
              "      <td>Maharashtra</td>\n",
              "      <td>WASHIM</td>\n",
              "      <td>2017-18</td>\n",
              "      <td>Summer</td>\n",
              "      <td>2.0</td>\n",
              "      <td>0.000000</td>\n",
              "      <td>0.20</td>\n",
              "      <td>1.000000</td>\n",
              "      <td>0.5712</td>\n",
              "      <td>0.448583</td>\n",
              "      <td>0.684600</td>\n",
              "      <td>0.0020</td>\n",
              "    </tr>\n",
              "    <tr>\n",
              "      <th>18215</th>\n",
              "      <td>33</td>\n",
              "      <td>Maharashtra</td>\n",
              "      <td>KOLHAPUR</td>\n",
              "      <td>2016-17</td>\n",
              "      <td>Summer</td>\n",
              "      <td>160.0</td>\n",
              "      <td>0.000091</td>\n",
              "      <td>0.50</td>\n",
              "      <td>1.000000</td>\n",
              "      <td>0.2877</td>\n",
              "      <td>0.268048</td>\n",
              "      <td>0.349600</td>\n",
              "      <td>0.2838</td>\n",
              "    </tr>\n",
              "    <tr>\n",
              "      <th>18216</th>\n",
              "      <td>33</td>\n",
              "      <td>Maharashtra</td>\n",
              "      <td>AMRAVATI</td>\n",
              "      <td>2018-19</td>\n",
              "      <td>Summer</td>\n",
              "      <td>22.0</td>\n",
              "      <td>0.000005</td>\n",
              "      <td>0.18</td>\n",
              "      <td>1.000000</td>\n",
              "      <td>0.6325</td>\n",
              "      <td>0.299790</td>\n",
              "      <td>0.646200</td>\n",
              "      <td>0.0048</td>\n",
              "    </tr>\n",
              "  </tbody>\n",
              "</table>\n",
              "<p>18217 rows × 13 columns</p>\n",
              "</div>"
            ],
            "text/plain": [
              "       crop                        state   district  ...         p        oc       k\n",
              "0         0  Andaman and Nicobar Islands             ...  0.895564  0.752867  0.8760\n",
              "1         1  Andaman and Nicobar Islands             ...  0.895564  0.752867  0.8760\n",
              "2         2                      Gujarat      KHEDA  ...  0.166917  0.451900  0.1635\n",
              "3         2                      Gujarat      KHEDA  ...  0.166917  0.451900  0.1635\n",
              "4         2                      Gujarat      KHEDA  ...  0.166917  0.451900  0.1635\n",
              "...     ...                          ...        ...  ...       ...       ...     ...\n",
              "18212    33                  Maharashtra   KOLHAPUR  ...  0.268048  0.349600  0.2838\n",
              "18213    33                  Maharashtra  NANDURBAR  ...  0.066286  0.769900  0.0160\n",
              "18214    33                  Maharashtra     WASHIM  ...  0.448583  0.684600  0.0020\n",
              "18215    33                  Maharashtra   KOLHAPUR  ...  0.268048  0.349600  0.2838\n",
              "18216    33                  Maharashtra   AMRAVATI  ...  0.299790  0.646200  0.0048\n",
              "\n",
              "[18217 rows x 13 columns]"
            ]
          },
          "metadata": {
            "tags": []
          },
          "execution_count": 87
        }
      ]
    },
    {
      "cell_type": "code",
      "metadata": {
        "id": "iTUWOQY0ZjnX",
        "colab": {
          "base_uri": "https://localhost:8080/"
        },
        "outputId": "734703ac-39bd-4f36-8ad6-2b83a1216b3e"
      },
      "source": [
        "from sklearn.model_selection import train_test_split\n",
        "from sklearn.linear_model import LinearRegression\n",
        "X = np.array(normalized_dataset[['crop','rainfall','n','p','oc','k']])\n",
        "# y = np.array(normalized_dataset['yield'])\n",
        "y = np.array(final_dataset['yield'])\n",
        "\n",
        "X_train, X_test, y_train, y_test = train_test_split(X, y, test_size=0.2, random_state=42)\n",
        "reg = LinearRegression()\n",
        "reg.fit(X_train,y_train)"
      ],
      "execution_count": null,
      "outputs": [
        {
          "output_type": "execute_result",
          "data": {
            "text/plain": [
              "LinearRegression(copy_X=True, fit_intercept=True, n_jobs=None, normalize=False)"
            ]
          },
          "metadata": {
            "tags": []
          },
          "execution_count": 88
        }
      ]
    },
    {
      "cell_type": "code",
      "metadata": {
        "id": "ud8lwmQIiW8R",
        "colab": {
          "base_uri": "https://localhost:8080/"
        },
        "outputId": "3fbe2fc1-34d0-417f-80c3-c89b4cb1152a"
      },
      "source": [
        "X_train.shape\n",
        "final_dataset['yield'].describe()"
      ],
      "execution_count": null,
      "outputs": [
        {
          "output_type": "execute_result",
          "data": {
            "text/plain": [
              "count    18217.000000\n",
              "mean         3.194949\n",
              "std          6.647447\n",
              "min          0.000000\n",
              "25%          0.750000\n",
              "50%          1.600000\n",
              "75%          2.630000\n",
              "max         63.330000\n",
              "Name: yield, dtype: float64"
            ]
          },
          "metadata": {
            "tags": []
          },
          "execution_count": 89
        }
      ]
    },
    {
      "cell_type": "code",
      "metadata": {
        "id": "SBu15Vc0mfua"
      },
      "source": [
        "from sklearn.metrics import r2_score\n",
        "def compare_models(model):\n",
        "    model_name = model.__class__.__name__\n",
        "    fit=model.fit(X_train,y_train)\n",
        "    y_pred=fit.predict(X_test)\n",
        "    r2=r2_score(y_test,y_pred)\n",
        "    return([model_name,r2])"
      ],
      "execution_count": null,
      "outputs": []
    },
    {
      "cell_type": "code",
      "metadata": {
        "id": "GJyTwlBbnJcr"
      },
      "source": [
        "from sklearn.ensemble import RandomForestRegressor\n",
        "from sklearn.ensemble import GradientBoostingRegressor\n",
        "from sklearn import svm\n",
        "from sklearn.tree import DecisionTreeRegressor\n",
        "\n",
        "models = [\n",
        "    GradientBoostingRegressor(n_estimators=200, max_depth=3, random_state=0),\n",
        "     RandomForestRegressor(n_estimators=200, max_depth=3, random_state=0),\n",
        "    svm.SVR(),\n",
        "   DecisionTreeRegressor()\n",
        "]"
      ],
      "execution_count": null,
      "outputs": []
    },
    {
      "cell_type": "code",
      "metadata": {
        "id": "XnlZKBMqy-23",
        "colab": {
          "base_uri": "https://localhost:8080/"
        },
        "outputId": "e7bfdd92-856a-42fc-d2b0-2ed7359b7867"
      },
      "source": [
        "model_train=list(map(compare_models,models)) \n",
        "print(*model_train, sep = \"\\n\")"
      ],
      "execution_count": null,
      "outputs": [
        {
          "output_type": "stream",
          "text": [
            "['GradientBoostingRegressor', 0.916580923626011]\n",
            "['RandomForestRegressor', 0.8799577093092354]\n",
            "['SVR', -0.012738960086052353]\n",
            "['DecisionTreeRegressor', 0.9352570635296462]\n"
          ],
          "name": "stdout"
        }
      ]
    },
    {
      "cell_type": "code",
      "metadata": {
        "id": "3iHHFG0p2MLD"
      },
      "source": [
        "import pickle \n",
        "with open('models/GBR'+current_dataset+'.pkl','wb') as f:\n",
        "    pickle.dump(models[0], f)\n",
        "with open('models/DTR'+current_dataset+'.pkl','wb') as f:\n",
        "    pickle.dump(models[-1], f)\n"
      ],
      "execution_count": null,
      "outputs": []
    },
    {
      "cell_type": "code",
      "metadata": {
        "id": "PrcjlpJl1V-I"
      },
      "source": [
        "# def get_processed_data():\n",
        "#     dataset = pd.read_csv('rainfall in india 1901-2015.csv')\n",
        "#     dataset = dataset.sort_values(by=['YEAR'], ascending=False)\n",
        "#     output = []\n",
        "#     states_present = []\n",
        "#     for index,row in dataset.iterrows():        \n",
        "#         state = row['SUBDIVISION']\n",
        "#         if state not in states_present:\n",
        "#             kharif_rain = (row['JUN']+row['JUL']+row['AUG']+row['SEP']+row['OCT'])/5\n",
        "#             rabi_rain = (row['NOV']+row['DEC']+row['JAN']+row['FEB']+row['MAR']+row['APR'])/6\n",
        "#             summer_rain = (row['MAR']+row['APR']+row['MAY']+row['JUN'])/4\n",
        "#             states_present.append(state)\n",
        "#             output.append([state,row['YEAR'],kharif_rain,rabi_rain,summer_rain])\n",
        "\n",
        "#     processed_dataset = pd.DataFrame(np.array(output),columns=['state','year','kharif','rabi','summer'])\n",
        "#     for col in ['kharif','rabi','summer']:\n",
        "#         processed_dataset[col] = processed_dataset[col].astype('float')\n",
        "#     processed_dataset['year'] = processed_dataset['year'].astype('int')\n",
        "#     processed_dataset['state'] = processed_dataset['state'].astype('string')\n",
        "#     return processed_dataset\n",
        "# get_processed_data().to_excel('rainfall-2015.xlsx',index=False)"
      ],
      "execution_count": null,
      "outputs": []
    },
    {
      "cell_type": "code",
      "metadata": {
        "id": "RVo239OmKqcq"
      },
      "source": [
        ""
      ],
      "execution_count": null,
      "outputs": []
    }
  ]
}
